{
 "cells": [
  {
   "cell_type": "markdown",
   "metadata": {},
   "source": [
    "# Analysis of mutational antigenic profiling of influenza A/WSN/1933(H1N1) HA using broadly-neutralizing antibodies "
   ]
  },
  {
   "cell_type": "code",
   "execution_count": null,
   "metadata": {
    "collapsed": true
   },
   "outputs": [],
   "source": [
    "import os\n",
    "import pandas\n",
    "from IPython.display import display, HTML"
   ]
  },
  {
   "cell_type": "markdown",
   "metadata": {},
   "source": [
    "# define experimental samples and download sequencing data from the SRA\n"
   ]
  },
  {
   "cell_type": "code",
   "execution_count": null,
   "metadata": {
    "collapsed": false
   },
   "outputs": [],
   "source": [
    "samples = pandas.DataFrame.from_records(\n",
    "        [('L1_FI6v3_c1_r1' , 'SRR5930379'),\n",
    "        ('L1_FI6v3_c1_r2' , 'SRR5930376'),\n",
    "        ('L1_FI6v3_c2_r1' , 'SRR5930378'),\n",
    "        ('L1_FI6v3_c2_r2', 'SRR5930383'),\n",
    "        ('L2_FI6v3_c1', 'SRR5930381'),\n",
    "        ('L2_FI6v3_c2', 'SRR5930380'),\n",
    "        ('L3_FI6v3_c1', 'SRR5930384'),\n",
    "        ('L3_FI6v3_c2', 'SRR5930375'),\n",
    "        ('L1_mock_r1', 'SRR4841578'),\n",
    "        ('L1_mock_r2', 'SRR4841581'),\n",
    "        ('L2_mock', 'SRR4841580'),\n",
    "        ('L3_mock', 'SRR4841582')],\n",
    "        columns=['name', 'SRA accession']\n",
    "        )\n",
    "display(HTML(samples.to_html(index=False)))"
   ]
  },
  {
   "cell_type": "code",
   "execution_count": null,
   "metadata": {
    "collapsed": false,
    "scrolled": false
   },
   "outputs": [],
   "source": [
    "print(\"Downloading FASTQ files from the SRA using:\")\n",
    "!fastq-dump --version\n",
    "\n",
    "# directory for FASTQ files\n",
    "fastqdir = './FASTQ_files/' \n",
    "if not os.path.isdir(fastqdir):\n",
    "    os.mkdir(fastqdir)\n",
    "\n",
    "# define the R1 FASTQ file name (file will be in fastqdir)\n",
    "samples['R1'] = samples['name'] + '_R1.fastq.gz'\n",
    "\n",
    "# download any FASTQ files that are not already present\n",
    "for (i, row) in samples.iterrows():\n",
    "    # r1filedownload / r2filedownload are initial file names given by fastq-dump \n",
    "    r1filedownload = os.path.join(fastqdir, '{0}_pass_1.fastq.gz'.format(row['SRA accession']))\n",
    "    r2filedownload = r1filedownload.replace('_1.fastq.gz', '_2.fastq.gz')\n",
    "    r1file = os.path.join(fastqdir, row['R1'])\n",
    "    r2file = r1file.replace('_R1', '_R2')\n",
    "    if os.path.isfile(r1file) and os.path.isfile(r2file):\n",
    "        print(\"FASTQ files for {0} already exist\".format(row['name']))\n",
    "    else:\n",
    "        print(\"Downloading FASTQ files for {0}...\".format(row['name']))\n",
    "        !fastq-dump --outdir {fastqdir} --gzip --readids --skip-technical \\\n",
    "                --dumpbase --clip --split-files --read-filter pass {row['SRA accession']}\n",
    "        os.rename(r1filedownload, r1file)\n",
    "        os.rename(r2filedownload, r2file)"
   ]
  },
  {
   "cell_type": "code",
   "execution_count": null,
   "metadata": {
    "collapsed": true
   },
   "outputs": [],
   "source": []
  }
 ],
 "metadata": {
  "kernelspec": {
   "display_name": "Python 2",
   "language": "python",
   "name": "python2"
  },
  "language_info": {
   "codemirror_mode": {
    "name": "ipython",
    "version": 2
   },
   "file_extension": ".py",
   "mimetype": "text/x-python",
   "name": "python",
   "nbconvert_exporter": "python",
   "pygments_lexer": "ipython2",
   "version": "2.7.6"
  }
 },
 "nbformat": 4,
 "nbformat_minor": 0
}
