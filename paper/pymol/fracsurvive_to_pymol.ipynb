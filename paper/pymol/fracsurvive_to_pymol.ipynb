{
 "cells": [
  {
   "cell_type": "code",
   "execution_count": 1,
   "metadata": {
    "collapsed": true
   },
   "outputs": [],
   "source": [
    "import pandas as pd\n",
    "from colour import Color\n",
    "\n",
    "fracsurvivedir = './medianfracsurvivefiles/'\n",
    "pymoldir = './pymol/'"
   ]
  },
  {
   "cell_type": "code",
   "execution_count": 2,
   "metadata": {
    "collapsed": true
   },
   "outputs": [],
   "source": [
    "def MapFracSurvtoPDB(infile, \n",
    "                     scriptfile, \n",
    "                     colors = ['#fafafa', '#ff0000'], \n",
    "                     map_type = 'site_fracsurv', \n",
    "                     restrict_to_chain = False, \n",
    "                     script_preamble = None):\n",
    "    '''Writes a colormapping script to be run in pymol; the colormapping is based on fracsurvive \n",
    "    to color a structure'''\n",
    "    df = pd.read_csv(infile)\n",
    "    df = df.dropna()\n",
    "    column_names = list(df)\n",
    "    \n",
    "    # establish the color spectrum in hex and rgb.\n",
    "    n_subdivisions = 500 # the color spectrum will be divided into this many discrete colors\n",
    "    color1 = Color(colors[0])\n",
    "    color2 = Color(colors[1])\n",
    "    rgb_spectrum = [c.rgb for c in color1.range_to(color2, n_subdivisions)]\n",
    "    rgb_spectrum_dict = dict([(i, rgb_spectrum[i]) for i in range(len(rgb_spectrum))])\n",
    "    \n",
    "    if map_type == 'site_fracsurv':\n",
    "        assert 'avgfracsurvive' in column_names\n",
    "        min_avg = df.min()['avgfracsurvive']  \n",
    "        max_avg = df.max()['avgfracsurvive']  # the min and max will be mapped to color1 and color2, respectively\n",
    "        range_avg = max_avg - min_avg\n",
    "        df['colorindex'] =  (df.avgfracsurvive - min_avg)/range_avg*(n_subdivisions-1)\n",
    "        \n",
    "    elif map_type == 'max_fracsurv':\n",
    "        assert 'maxfracsurvive' in column_names\n",
    "        min_val = df.min()['maxfracsurvive']  \n",
    "        max_val = df.max()['maxfracsurvive']  # the min and max will be mapped to color1 and color2, respectively\n",
    "        range_val = max_val - min_val\n",
    "        df['colorindex'] =  (df.maxfracsurvive - min_val)/range_val*(n_subdivisions-1)\n",
    "    \n",
    "    df['colorindex'] = df['colorindex'].astype(int) # round to nearest index\n",
    "    df['rgb'] = df['colorindex'].map(rgb_spectrum_dict)        \n",
    "    site_color_mapping = pd.concat([df['site'], df['rgb']], axis=1)\n",
    "    \n",
    "    # write out the script to *scriptfile*:\n",
    "    f = open(scriptfile, 'w')\n",
    "    \n",
    "    if script_preamble:\n",
    "        preamblef = open(script_preamble, 'r')\n",
    "        for line in preamblef.readlines():\n",
    "            f.write(line)\n",
    "        f.write('\\n\\n')\n",
    "        preamblef.close()\n",
    "    \n",
    "    for i in range(len(df.index)):\n",
    "        rgblist = [min(1, c) for c in site_color_mapping.iloc[i]['rgb']]\n",
    "        r = site_color_mapping.iloc[i]['site']\n",
    "        if 'HA2' in r:\n",
    "            f.write(\"cmd.set_color(\\'color{0}_HA2\\', \\'{1}\\')\\n\".format(r.split(')')[1], rgblist))\n",
    "            f.write(\"cmd.color(\\'color{0}_HA2\\', \\'resi {0} and HA2\\')\\n\".format(r.split(')')[1]))\n",
    "        else:\n",
    "            f.write(\"cmd.set_color(\\'color{0}\\', \\'{1}\\')\\n\".format(r, rgblist))\n",
    "            f.write(\"cmd.color(\\'color{0}\\', \\'resi {0} and HA1\\')\\n\".format(r))\n",
    "                    \n",
    "    f.close()"
   ]
  },
  {
   "cell_type": "code",
   "execution_count": 4,
   "metadata": {
    "collapsed": true
   },
   "outputs": [],
   "source": [
    "MapFracSurvtoPDB('{0}/antibody_S139_median_avgsite.csv'.format(fracsurvivedir), \n",
    "                 '{0}/S139_median_maxmut.py'.format(pymoldir), \n",
    "                 map_type = 'max_fracsurv',\n",
    "                 script_preamble = './pymol/pymol_preamble.txt')"
   ]
  },
  {
   "cell_type": "code",
   "execution_count": 6,
   "metadata": {
    "collapsed": true
   },
   "outputs": [],
   "source": [
    "MapFracSurvtoPDB('{0}/antibody_C179_median_avgsite.csv'.format(fracsurvivedir), \n",
    "                 '{0}/C179.py'.format(pymoldir), \n",
    "                 map_type = 'max_fracsurv',\n",
    "                 script_preamble = './pymol/pymol_preamble.txt')"
   ]
  },
  {
   "cell_type": "code",
   "execution_count": 9,
   "metadata": {
    "collapsed": true
   },
   "outputs": [],
   "source": [
    "MapFracSurvtoPDB('{0}/antibody_FI6v3_median_avgsite.csv'.format(fracsurvivedir), \n",
    "                 '{0}/FI6v3_median_maxmut.py'.format(pymoldir), \n",
    "                 map_type = 'max_fracsurv',\n",
    "                 script_preamble = './pymol/pymol_preamble.txt')"
   ]
  },
  {
   "cell_type": "code",
   "execution_count": 10,
   "metadata": {
    "collapsed": true
   },
   "outputs": [],
   "source": [
    "MapFracSurvtoPDB('{0}/antibody_H17L19_median_avgsite.csv'.format(fracsurvivedir), \n",
    "                 '{0}/H17L19_median_maxmut.py'.format(pymoldir), \n",
    "                 map_type = 'max_fracsurv',\n",
    "                 script_preamble = './pymol/pymol_preamble.txt')"
   ]
  },
  {
   "cell_type": "code",
   "execution_count": 11,
   "metadata": {
    "collapsed": true
   },
   "outputs": [],
   "source": [
    "MapFracSurvtoPDB('{0}/antibody_H17L10_median_avgsite.csv'.format(fracsurvivedir), \n",
    "                 '{0}/H17L10_median_maxmut.py'.format(pymoldir), \n",
    "                 map_type = 'max_fracsurv',\n",
    "                 script_preamble = './pymol/pymol_preamble.txt')"
   ]
  },
  {
   "cell_type": "code",
   "execution_count": 12,
   "metadata": {
    "collapsed": true
   },
   "outputs": [],
   "source": [
    "MapFracSurvtoPDB('{0}/antibody_H17L7_median_avgsite.csv'.format(fracsurvivedir), \n",
    "                 '{0}/H17L7_median_maxmut.py'.format(pymoldir), \n",
    "                 map_type = 'max_fracsurv',\n",
    "                 script_preamble = './pymol/pymol_preamble.txt')"
   ]
  },
  {
   "cell_type": "code",
   "execution_count": 9,
   "metadata": {},
   "outputs": [],
   "source": [
    "# Make pymol script for FI6v3 max mut to same scale as C179\n",
    "# In the input file, I changed the last residue of the signal peptide (-1) to have a max mut and avg mut value\n",
    "# equal to site 38 (H3 numbering) in C179\n",
    "colors1 = ['#e4dffe', '#1b157a']\n",
    "\n",
    "MapFracSurvtoPDB('{0}/antibody_FI6v3_median_avgsite_C179scale.csv'.format(fracsurvivedir), \n",
    "                 '{0}/FI6v3_median_maxmut_C179scale.py'.format(pymoldir), \n",
    "                 map_type = 'max_fracsurv',\n",
    "                 colors = colors1,\n",
    "                 script_preamble = './pymol/pymol_preamble.txt')\n",
    "\n",
    "MapFracSurvtoPDB('{0}/antibody_C179_median_avgsite.csv'.format(fracsurvivedir), \n",
    "                 '{0}/C179_maxmut_zoomed.py'.format(pymoldir), \n",
    "                 map_type = 'max_fracsurv', \n",
    "                 colors = colors1,\n",
    "                 script_preamble = './pymol/pymol_preamble.txt')"
   ]
  },
  {
   "cell_type": "code",
   "execution_count": 47,
   "metadata": {
    "collapsed": true
   },
   "outputs": [],
   "source": [
    "def MapFracSurv3Colors(infile, \n",
    "                       scriptfile,  \n",
    "                       map_type = 'max_fracsurv', \n",
    "                       restrict_to_chain = False, \n",
    "                       script_preamble = None):\n",
    "    '''Writes a colormapping script to be run in pymol; the colormapping is based on fracsurvive \n",
    "    to color a structure'''\n",
    "    df = pd.read_csv(infile)\n",
    "    df = df.dropna()\n",
    "    column_names = list(df)\n",
    "    \n",
    "    # write out the script to *scriptfile*:\n",
    "    f = open(scriptfile, 'w')\n",
    "    \n",
    "    if script_preamble:\n",
    "        preamblef = open(script_preamble, 'r')\n",
    "        for line in preamblef.readlines():\n",
    "            f.write(line)\n",
    "        f.write('\\n\\n')\n",
    "        preamblef.close()\n",
    "    \n",
    "    for index,row in df.iterrows():\n",
    "        r = row['site']\n",
    "        maxfrac = row['maxfracsurvive']\n",
    "        if 'HA2' in r:\n",
    "            s = r.split(')')[1]\n",
    "            f.write(\"cmd.alter(\\'HA2 and resi {0}\\', \\'b = {1}\\')\\n\".format(s, maxfrac))\n",
    "        else:\n",
    "            f.write(\"cmd.alter(\\'HA1 and resi {0}\\', \\'b = {1}\\')\\n\".format(r, maxfrac))\n",
    "            \n",
    "    f.write(\"\\ncmd.spectrum(\\'b\\', \\'white_orange_hassium\\', \\'1RVX\\')\")\n",
    "\n",
    "    f.close()"
   ]
  },
  {
   "cell_type": "code",
   "execution_count": 48,
   "metadata": {},
   "outputs": [],
   "source": [
    "MapFracSurv3Colors('{0}/antibody_FI6v3_median_avgsite_C179scale.csv'.format(fracsurvivedir), \n",
    "                 '{0}/FI6v3_median_maxmut_C179scale.py'.format(pymoldir),\n",
    "                 script_preamble = './pymol/pymol_preamble.txt')\n",
    "\n",
    "MapFracSurv3Colors('{0}/antibody_C179_median_avgsite.csv'.format(fracsurvivedir), \n",
    "                 '{0}/C179_maxmut_zoomed.py'.format(pymoldir), \n",
    "                 script_preamble = './pymol/pymol_preamble.txt')"
   ]
  },
  {
   "cell_type": "code",
   "execution_count": null,
   "metadata": {
    "collapsed": true
   },
   "outputs": [],
   "source": []
  }
 ],
 "metadata": {
  "anaconda-cloud": {},
  "kernelspec": {
   "display_name": "Python 3",
   "language": "python",
   "name": "python3"
  },
  "language_info": {
   "codemirror_mode": {
    "name": "ipython",
    "version": 3
   },
   "file_extension": ".py",
   "mimetype": "text/x-python",
   "name": "python",
   "nbconvert_exporter": "python",
   "pygments_lexer": "ipython3",
   "version": "3.6.1"
  }
 },
 "nbformat": 4,
 "nbformat_minor": 1
}
