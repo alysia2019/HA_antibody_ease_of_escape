{
 "cells": [
  {
   "cell_type": "markdown",
   "metadata": {},
   "source": [
    "# Analysis of neutralization assays\n",
    "\n",
    "This notebook is to analyze neutralization assay data. \n",
    "In brief, we rescued various influenza viruses carrying PB1-flank-eGFP and measured % infectivity after neutralization of these GFP viruses with antibody. We measure infectivity by GFP signal in infected cells on a Tecan plate reader ~16-18 h after infection."
   ]
  },
  {
   "cell_type": "code",
   "execution_count": 5,
   "metadata": {},
   "outputs": [
    {
     "name": "stdout",
     "output_type": "stream",
     "text": [
      "Using matplotlib version 2.0.2\n"
     ]
    }
   ],
   "source": [
    "import os\n",
    "import subprocess\n",
    "import glob\n",
    "import math\n",
    "import time\n",
    "import pandas as pd\n",
    "import numpy as np\n",
    "from colour import Color\n",
    "from scipy.optimize import curve_fit\n",
    "import matplotlib\n",
    "import matplotlib.lines as mlines\n",
    "matplotlib.use(\"Pdf\")\n",
    "print (\"Using matplotlib version {0}\".format(matplotlib.__version__))\n",
    "from matplotlib.ticker import MaxNLocator\n",
    "import pylab as plt\n",
    "from IPython.display import Image, display\n",
    "\n",
    "inputdir = './platereaderdata/'"
   ]
  },
  {
   "cell_type": "code",
   "execution_count": 6,
   "metadata": {},
   "outputs": [],
   "source": [
    "S139_data = pd.read_csv('{0}/20170502_S139_WTneutralizationassay.csv'.format(inputdir))\n",
    "C179_data = pd.read_csv('{0}/20170502_C179_WTneutralizationassay.csv'.format(inputdir))\n",
    "H17L19_data = pd.read_csv('{0}/20170502_H17-L19_WTneutralizationassay.csv'.format(inputdir))"
   ]
  },
  {
   "cell_type": "code",
   "execution_count": null,
   "metadata": {},
   "outputs": [],
   "source": []
  }
 ],
 "metadata": {
  "kernelspec": {
   "display_name": "Python 3",
   "language": "python",
   "name": "python3"
  },
  "language_info": {
   "codemirror_mode": {
    "name": "ipython",
    "version": 3
   },
   "file_extension": ".py",
   "mimetype": "text/x-python",
   "name": "python",
   "nbconvert_exporter": "python",
   "pygments_lexer": "ipython3",
   "version": "3.4.3"
  }
 },
 "nbformat": 4,
 "nbformat_minor": 2
}
